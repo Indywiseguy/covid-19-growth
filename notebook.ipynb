{
 "nbformat": 4,
 "nbformat_minor": 2,
 "metadata": {
  "language_info": {
   "name": "python",
   "codemirror_mode": {
    "name": "ipython",
    "version": 3
   },
   "version": "3.8.2-final"
  },
  "orig_nbformat": 2,
  "file_extension": ".py",
  "mimetype": "text/x-python",
  "name": "python",
  "npconvert_exporter": "python",
  "pygments_lexer": "ipython3",
  "version": 3,
  "kernelspec": {
   "name": "python38264bit93664c5884ba47e6a144a2df3d3dfa19",
   "display_name": "Python 3.8.2 64-bit"
  }
 },
 "cells": [
  {
   "cell_type": "markdown",
   "metadata": {},
   "source": [
    "### Linear fit example as a stub"
   ]
  },
  {
   "cell_type": "code",
   "execution_count": 7,
   "metadata": {},
   "outputs": [],
   "source": [
    "import pandas as pd\n",
    "import matplotlib as mpl\n",
    "import matplotlib.pyplot as plt\n",
    "import pickle\n",
    "from pprint import pprint as pp\n",
    "\n",
    "# Choose dataframe\n",
    "df_name = 'df_cases'\n",
    "\n",
    "pickle_file = open(f'pickles/{df_name}''.p', 'rb')\n",
    "df = pickle.load(pickle_file)\n",
    "pickle_file.close()"
   ]
  },
  {
   "cell_type": "code",
   "execution_count": 8,
   "metadata": {},
   "outputs": [
    {
     "ename": "SyntaxError",
     "evalue": "positional argument follows keyword argument (<ipython-input-8-6c799a863f68>, line 11)",
     "output_type": "error",
     "traceback": [
      "\u001b[0;36m  File \u001b[0;32m\"<ipython-input-8-6c799a863f68>\"\u001b[0;36m, line \u001b[0;32m11\u001b[0m\n\u001b[0;31m    result = model.fit(df.day, x=df.day.to_list(), params)\u001b[0m\n\u001b[0m                                                   ^\u001b[0m\n\u001b[0;31mSyntaxError\u001b[0m\u001b[0;31m:\u001b[0m positional argument follows keyword argument\n"
     ]
    }
   ],
   "source": [
    "import matplotlib as mpl\n",
    "import matplotlib.pyplot as plt\n",
    "from lmfit import Model\n",
    "from lmfit.models import LinearModel\n",
    "\n",
    "# Nonlinear least squares starting point, using LinearModel\n",
    "df = df.groupby('day').sum().reset_index()\n",
    "df = df[['day', 'cases']]\n",
    "model = LinearModel()\n",
    "params = model.make_params()\n",
    "result = model.fit(df.day, x=df.day.to_list(), params)\n",
    "mpl.style.use('dark_background')\n",
    "result.plot_fit()\n"
   ]
  }
 ]
}